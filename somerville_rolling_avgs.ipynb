{
 "cells": [
  {
   "cell_type": "code",
   "execution_count": 45,
   "metadata": {},
   "outputs": [],
   "source": [
    "import pandas as pd\n",
    "import numpy as np\n",
    "import matplotlib.pyplot as plt\n",
    "%matplotlib inline\n"
   ]
  },
  {
   "cell_type": "code",
   "execution_count": null,
   "metadata": {},
   "outputs": [],
   "source": []
  },
  {
   "cell_type": "code",
   "execution_count": 322,
   "metadata": {},
   "outputs": [
    {
     "name": "stdout",
     "output_type": "stream",
     "text": [
      "(78, 4)\n"
     ]
    },
    {
     "data": {
      "text/html": [
       "<div>\n",
       "<style scoped>\n",
       "    .dataframe tbody tr th:only-of-type {\n",
       "        vertical-align: middle;\n",
       "    }\n",
       "\n",
       "    .dataframe tbody tr th {\n",
       "        vertical-align: top;\n",
       "    }\n",
       "\n",
       "    .dataframe thead th {\n",
       "        text-align: right;\n",
       "    }\n",
       "</style>\n",
       "<table border=\"1\" class=\"dataframe\">\n",
       "  <thead>\n",
       "    <tr style=\"text-align: right;\">\n",
       "      <th></th>\n",
       "      <th>Site</th>\n",
       "      <th>Date</th>\n",
       "      <th>Ratio</th>\n",
       "      <th>Date2</th>\n",
       "    </tr>\n",
       "  </thead>\n",
       "  <tbody>\n",
       "    <tr>\n",
       "      <th>6</th>\n",
       "      <td>A-743</td>\n",
       "      <td>2020-09-28</td>\n",
       "      <td>0.00000</td>\n",
       "      <td>09-28</td>\n",
       "    </tr>\n",
       "    <tr>\n",
       "      <th>7</th>\n",
       "      <td>A-743</td>\n",
       "      <td>2020-10-02</td>\n",
       "      <td>0.00303</td>\n",
       "      <td>10-02</td>\n",
       "    </tr>\n",
       "    <tr>\n",
       "      <th>8</th>\n",
       "      <td>A-743</td>\n",
       "      <td>2020-10-05</td>\n",
       "      <td>0.00000</td>\n",
       "      <td>10-05</td>\n",
       "    </tr>\n",
       "    <tr>\n",
       "      <th>9</th>\n",
       "      <td>A-743</td>\n",
       "      <td>2020-10-07</td>\n",
       "      <td>0.00000</td>\n",
       "      <td>10-07</td>\n",
       "    </tr>\n",
       "    <tr>\n",
       "      <th>10</th>\n",
       "      <td>A-743</td>\n",
       "      <td>2020-10-14</td>\n",
       "      <td>0.00000</td>\n",
       "      <td>10-14</td>\n",
       "    </tr>\n",
       "  </tbody>\n",
       "</table>\n",
       "</div>"
      ],
      "text/plain": [
       "     Site       Date    Ratio  Date2\n",
       "6   A-743 2020-09-28  0.00000  09-28\n",
       "7   A-743 2020-10-02  0.00303  10-02\n",
       "8   A-743 2020-10-05  0.00000  10-05\n",
       "9   A-743 2020-10-07  0.00000  10-07\n",
       "10  A-743 2020-10-14  0.00000  10-14"
      ]
     },
     "execution_count": 322,
     "metadata": {},
     "output_type": "execute_result"
    }
   ],
   "source": [
    "df = pd.read_excel(\"/Users/canderson/sars_somerville/ratio.xlsx\")\n",
    "df = df[df.Date >= \"2020-09-28\"]\n",
    "df[\"Date2\"] = df.Date.dt.strftime('%Y-%m-%d')\n",
    "df[\"Date2\"] = df.Date2.str.split(\"2020-\").str[1]\n",
    "\n",
    "\n",
    "\n",
    "print(df.shape)\n",
    "df.head()\n"
   ]
  },
  {
   "cell_type": "code",
   "execution_count": 323,
   "metadata": {},
   "outputs": [
    {
     "data": {
      "text/plain": [
       "Site             object\n",
       "Date     datetime64[ns]\n",
       "Ratio           float64\n",
       "Date2            object\n",
       "dtype: object"
      ]
     },
     "execution_count": 323,
     "metadata": {},
     "output_type": "execute_result"
    }
   ],
   "source": [
    "df.dtypes"
   ]
  },
  {
   "cell_type": "code",
   "execution_count": 324,
   "metadata": {},
   "outputs": [
    {
     "name": "stdout",
     "output_type": "stream",
     "text": [
      "(15, 4)\n",
      "(15, 4)\n",
      "(15, 4)\n",
      "(15, 4)\n",
      "(15, 4)\n"
     ]
    },
    {
     "data": {
      "text/html": [
       "<div>\n",
       "<style scoped>\n",
       "    .dataframe tbody tr th:only-of-type {\n",
       "        vertical-align: middle;\n",
       "    }\n",
       "\n",
       "    .dataframe tbody tr th {\n",
       "        vertical-align: top;\n",
       "    }\n",
       "\n",
       "    .dataframe thead th {\n",
       "        text-align: right;\n",
       "    }\n",
       "</style>\n",
       "<table border=\"1\" class=\"dataframe\">\n",
       "  <thead>\n",
       "    <tr style=\"text-align: right;\">\n",
       "      <th></th>\n",
       "      <th>Site</th>\n",
       "      <th>Date</th>\n",
       "      <th>Ratio</th>\n",
       "      <th>Date2</th>\n",
       "    </tr>\n",
       "  </thead>\n",
       "  <tbody>\n",
       "    <tr>\n",
       "      <th>90</th>\n",
       "      <td>S2-1927</td>\n",
       "      <td>2020-09-28</td>\n",
       "      <td>0.00270</td>\n",
       "      <td>09-28</td>\n",
       "    </tr>\n",
       "    <tr>\n",
       "      <th>91</th>\n",
       "      <td>S2-1927</td>\n",
       "      <td>2020-10-02</td>\n",
       "      <td>0.00496</td>\n",
       "      <td>10-02</td>\n",
       "    </tr>\n",
       "    <tr>\n",
       "      <th>92</th>\n",
       "      <td>S2-1927</td>\n",
       "      <td>2020-10-05</td>\n",
       "      <td>0.00515</td>\n",
       "      <td>10-05</td>\n",
       "    </tr>\n",
       "    <tr>\n",
       "      <th>93</th>\n",
       "      <td>S2-1927</td>\n",
       "      <td>2020-10-07</td>\n",
       "      <td>0.00710</td>\n",
       "      <td>10-07</td>\n",
       "    </tr>\n",
       "    <tr>\n",
       "      <th>94</th>\n",
       "      <td>S2-1927</td>\n",
       "      <td>2020-10-14</td>\n",
       "      <td>0.00269</td>\n",
       "      <td>10-14</td>\n",
       "    </tr>\n",
       "  </tbody>\n",
       "</table>\n",
       "</div>"
      ],
      "text/plain": [
       "       Site       Date    Ratio  Date2\n",
       "90  S2-1927 2020-09-28  0.00270  09-28\n",
       "91  S2-1927 2020-10-02  0.00496  10-02\n",
       "92  S2-1927 2020-10-05  0.00515  10-05\n",
       "93  S2-1927 2020-10-07  0.00710  10-07\n",
       "94  S2-1927 2020-10-14  0.00269  10-14"
      ]
     },
     "execution_count": 324,
     "metadata": {},
     "output_type": "execute_result"
    }
   ],
   "source": [
    "s1 = df[df.Site == \"C1-2121\"]\n",
    "s2 = df[df.Site == \"C2-1050\"]\n",
    "\n",
    "s3 = df[df.Site == \"S2-1927\"]\n",
    "s3 = s3[s3.Date != \"2020-10-23\"]\n",
    "\n",
    "s4 = df[df.Site == \"A-743\"]\n",
    "s5 = df[df.Site == \"C2-367\"]\n",
    "\n",
    "print(s1.shape)\n",
    "print(s2.shape)\n",
    "print(s3.shape)\n",
    "print(s4.shape)\n",
    "print(s5.shape)\n",
    "\n",
    "\n",
    "s3.head()"
   ]
  },
  {
   "cell_type": "code",
   "execution_count": 325,
   "metadata": {},
   "outputs": [],
   "source": [
    "\n",
    "s1_date_ratio = s1[[\"Date\", \"Ratio\"]]\n",
    "s1_date_ratio = s1_date_ratio.set_index(s1_date_ratio.Date)\n",
    "s1_date_ratio = s1_date_ratio.rolling(\"7d\").mean().reset_index()\n",
    "s1_date_ratio = s1_date_ratio.rename(columns = {\"Ratio\": \"Rolling\"})\n",
    "\n",
    "s2_date_ratio = s2[[\"Date\", \"Ratio\"]]\n",
    "s2_date_ratio = s2_date_ratio.set_index(s2_date_ratio.Date)\n",
    "s2_date_ratio = s2_date_ratio.rolling(\"7d\").mean().reset_index()\n",
    "s2_date_ratio = s2_date_ratio.rename(columns = {\"Ratio\": \"Rolling\"})\n",
    "\n",
    "s3_date_ratio = s3[[\"Date\", \"Ratio\"]]\n",
    "s3_date_ratio = s3_date_ratio.set_index(s3_date_ratio.Date)\n",
    "s3_date_ratio = s3_date_ratio.rolling(\"7d\").mean().reset_index()\n",
    "s3_date_ratio = s3_date_ratio.rename(columns = {\"Ratio\": \"Rolling\"})\n",
    "\n",
    "s4_date_ratio = s4[[\"Date\", \"Ratio\"]]\n",
    "s4_date_ratio = s4_date_ratio.set_index(s4_date_ratio.Date)\n",
    "s4_date_ratio = s4_date_ratio.rolling(\"7d\").mean().reset_index()\n",
    "s4_date_ratio = s4_date_ratio.rename(columns = {\"Ratio\": \"Rolling\"})\n",
    "\n",
    "s5_date_ratio = s5[[\"Date\", \"Ratio\"]]\n",
    "s5_date_ratio = s5_date_ratio.set_index(s5_date_ratio.Date)\n",
    "s5_date_ratio = s5_date_ratio.rolling(\"7d\").mean().reset_index()\n",
    "s5_date_ratio = s5_date_ratio.rename(columns = {\"Ratio\": \"Rolling\"})\n"
   ]
  },
  {
   "cell_type": "code",
   "execution_count": 326,
   "metadata": {},
   "outputs": [],
   "source": [
    "s1 = s1.merge(s1_date_ratio, how=\"left\", on = \"Date\")\n",
    "s2 = s2.merge(s2_date_ratio, how=\"left\", on = \"Date\")\n",
    "s3 = s3.merge(s3_date_ratio, how=\"left\", on = \"Date\")\n",
    "s4 = s4.merge(s4_date_ratio, how=\"left\", on = \"Date\")\n",
    "s5 = s5.merge(s5_date_ratio, how=\"left\", on = \"Date\")\n"
   ]
  },
  {
   "cell_type": "code",
   "execution_count": 332,
   "metadata": {},
   "outputs": [
    {
     "data": {
      "image/png": "[encoded data removed]",
      "text/plain": [
       "<Figure size 432x288 with 1 Axes>"
      ]
     },
     "metadata": {
      "needs_background": "light"
     },
     "output_type": "display_data"
    }
   ],
   "source": [
    "fig = plt.figure()\n",
    "ax = fig.add_subplot(1, 1, 1) \n",
    "\n",
    "x_pos = [i for i, _ in enumerate(s3.Date2)]\n",
    "\n",
    "ax.bar(x_pos, s3.Ratio)\n",
    "ax.plot(s3.Rolling, color = \"grey\", linewidth = 1.5)\n",
    "\n",
    "\n",
    "plt.xlabel(\"\\nDate\")\n",
    "plt.ylabel(\"SARS-CoV-2:PMMoV\\n\")\n",
    "plt.title(\"S2-1927 - Broadway & Garfield Ave\")\n",
    "plt.xticks(x_pos, s3.Date2, rotation=45)\n",
    "\n",
    "plt.show()"
   ]
  },
  {
   "cell_type": "code",
   "execution_count": null,
   "metadata": {},
   "outputs": [],
   "source": []
  },
  {
   "cell_type": "code",
   "execution_count": null,
   "metadata": {},
   "outputs": [],
   "source": []
  },
  {
   "cell_type": "code",
   "execution_count": 327,
   "metadata": {
    "scrolled": true
   },
   "outputs": [
    {
     "data": {
      "image/png": "[encoded data removed]",
      "text/plain": [
       "<Figure size 432x792 with 5 Axes>"
      ]
     },
     "metadata": {
      "needs_background": "light"
     },
     "output_type": "display_data"
    }
   ],
   "source": [
    "fig, axs = plt.subplots(5, sharex=True, sharey=True, clear=True, figsize=(6,11))\n",
    "\n",
    "\n",
    "x_pos = [i for i, _ in enumerate(s1.Date2)]\n",
    "axs[0].bar(x_pos, s1.Ratio, alpha = 0.7)\n",
    "axs[0].plot(s1.Rolling, color = \"grey\", linewidth = 1.5)\n",
    "axs[0].title.set_text(\"C1-2121 - Washington St & Inner Belt Rd\")\n",
    "\n",
    "x_pos = [i for i, _ in enumerate(s2.Date2)]\n",
    "axs[1].bar(x_pos, s2.Ratio, alpha = 0.7)\n",
    "axs[1].plot(s2.Rolling, color = \"grey\", linewidth = 1.5)\n",
    "axs[1].title.set_text(\"C2-1050 - Somerville Ave & McGrath Hwy\")\n",
    "\n",
    "x_pos = [i for i, _ in enumerate(s3.Date2)]\n",
    "axs[2].bar(x_pos, s3.Ratio, alpha = 0.7)\n",
    "axs[2].plot(s3.Rolling, color = \"grey\", linewidth = 1.5)\n",
    "axs[2].title.set_text(\"S2-1927 - Broadway & Garfield Ave\")\n",
    "\n",
    "x_pos = [i for i, _ in enumerate(s4.Date2)]\n",
    "axs[3].bar(x_pos, s4.Ratio, alpha = 0.7)\n",
    "axs[3].plot(s4.Rolling, color = \"grey\", linewidth = 1.5)\n",
    "axs[3].title.set_text(\"A-743 - Alewife Brook Pkwy & Powder House Blvd\")\n",
    "\n",
    "x_pos = [i for i, _ in enumerate(s5.Date2)]\n",
    "axs[4].bar(x_pos, s5.Ratio, alpha = 0.7)\n",
    "axs[4].plot(s5.Rolling, color = \"grey\", linewidth = 1.5)\n",
    "axs[4].title.set_text(\"C2-367 - Elm St & Elston St\")\n",
    "\n",
    "plt.xticks(x_pos, s5.Date2, rotation = 45, ha = \"right\")\n",
    "#plt.set_xticklabels(s1.Date2, rotation=90, ha = \"center\")\n",
    "\n",
    "\n",
    "\n",
    "plt.tight_layout()\n",
    "plt.show();"
   ]
  },
  {
   "cell_type": "code",
   "execution_count": 328,
   "metadata": {},
   "outputs": [],
   "source": [
    "fig.savefig(\"/Users/canderson/sars_somerville/rolling_avgs.pdf\", bbox_inches='tight', dpi=600)"
   ]
  },
  {
   "cell_type": "code",
   "execution_count": null,
   "metadata": {},
   "outputs": [],
   "source": []
  }
 ],
 "metadata": {
  "kernelspec": {
   "display_name": "Python 3",
   "language": "python",
   "name": "python3"
  },
  "language_info": {
   "codemirror_mode": {
    "name": "ipython",
    "version": 3
   },
   "file_extension": ".py",
   "mimetype": "text/x-python",
   "name": "python",
   "nbconvert_exporter": "python",
   "pygments_lexer": "ipython3",
   "version": "3.8.3"
  }
 },
 "nbformat": 4,
 "nbformat_minor": 4
}
